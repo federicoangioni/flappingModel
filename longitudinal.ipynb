{
 "cells": [
  {
   "cell_type": "code",
   "execution_count": null,
   "id": "589aadc2",
   "metadata": {},
   "outputs": [],
   "source": [
    "import numpy as np\n",
    "import scipy as sp"
   ]
  },
  {
   "cell_type": "code",
   "execution_count": null,
   "id": "26ae4e16",
   "metadata": {},
   "outputs": [],
   "source": [
    "# Define parameters\n",
    "\n",
    "bx = 0\n",
    "m = 0\n",
    "lz = 0\n",
    "g = 9.80665\n"
   ]
  },
  {
   "cell_type": "markdown",
   "id": "7d33a973",
   "metadata": {},
   "source": [
    "### Define the equations of motion"
   ]
  },
  {
   "cell_type": "code",
   "execution_count": null,
   "id": "3f49d1ef",
   "metadata": {},
   "outputs": [],
   "source": [
    "def equations_motion(t, state):\n",
    "    u, w, theta, thetad = state \n",
    "    def ldd(t):\n",
    "        pass\n",
    "    ud = - np.sin(theta)*g -  bx/m*(u - lz * thetad + ldd)\n",
    "    \n",
    "    # T = 2*(c1*f+c2)\n",
    "\n",
    "    # wd = thetad*u*0 + g*cos(theta) - T/m - 2*(bz/m)*(w - ld*thetad)\n",
    "\n",
    "    # thetadd = (1/Iyy)*(- 2 * bx * lz *(u - lz*thetad - 0*ldd) + 2*bz*ld*(w - ld*thetad) - T*ld)"
   ]
  },
  {
   "cell_type": "markdown",
   "id": "530efad5",
   "metadata": {},
   "source": []
  }
 ],
 "metadata": {
  "kernelspec": {
   "display_name": "base",
   "language": "python",
   "name": "python3"
  },
  "language_info": {
   "name": "python",
   "version": "3.12.4"
  }
 },
 "nbformat": 4,
 "nbformat_minor": 5
}
